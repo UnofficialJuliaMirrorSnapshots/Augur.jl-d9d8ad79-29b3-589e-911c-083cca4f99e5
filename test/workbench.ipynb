{
 "metadata": {
  "language": "Julia",
  "name": "",
  "signature": "sha256:ffe211f4cf239e551beb097b1c14bd3a3fa754bf67ee217a2ddf4e55952a2de5"
 },
 "nbformat": 3,
 "nbformat_minor": 0,
 "worksheets": [
  {
   "cells": [
    {
     "cell_type": "code",
     "collapsed": false,
     "input": [
      "reload(\"repl.jl\");"
     ],
     "language": "python",
     "metadata": {},
     "outputs": []
    },
    {
     "cell_type": "code",
     "collapsed": false,
     "input": [
      "xdump(sim)"
     ],
     "language": "python",
     "metadata": {},
     "outputs": []
    },
    {
     "cell_type": "code",
     "collapsed": false,
     "input": [
      "using PyPlot;\n",
      "PyPlot.svg(false);"
     ],
     "language": "python",
     "metadata": {},
     "outputs": []
    },
    {
     "cell_type": "code",
     "collapsed": false,
     "input": [
      "subplot(221);\n",
      "colorbar(contourf(mean_repdelta[\"hierarchical\"], origin=\"upper\"));\n",
      "title(\"hierarchical\");\n",
      "ylabel(\"reporter\");\n",
      "\n",
      "subplot(222);\n",
      "colorbar(contourf(mean_repdelta[\"cflash\"], origin=\"upper\"));\n",
      "title(\"cflash\");\n",
      "\n",
      "subplot(223);\n",
      "contourf(mean_repdelta[\"PCA\"], origin=\"upper\");\n",
      "title(\"PCA\");\n",
      "xlabel(\"reporting round\");\n",
      "ylabel(\"reporter\");\n",
      "\n",
      "subplot(224);\n",
      "colorbar(contourf(mean_repdelta[\"k-means\"], origin=\"upper\"));\n",
      "title(\"k-means\");\n",
      "xlabel(\"reporting round\");"
     ],
     "language": "python",
     "metadata": {},
     "outputs": []
    },
    {
     "cell_type": "code",
     "collapsed": false,
     "input": [
      "function buildplot(metric)\n",
      "    plot(1:sim.TIMESTEPS, mean(track[\"PCA\"][metric], 2),\n",
      "         1:sim.TIMESTEPS, mean(track[\"cflash\"][metric], 2),\n",
      "         1:sim.TIMESTEPS, mean(track[\"fixed-variance\"][metric], 2),\n",
      "         1:sim.TIMESTEPS, mean(track[\"k-means\"][metric], 2),\n",
      "         1:sim.TIMESTEPS, mean(track[\"hierarchical\"][metric], 2))\n",
      "end\n",
      "\n",
      "fig = figure();\n",
      "\n",
      "subplot(221);\n",
      "buildplot(:MCC)\n",
      "grid();\n",
      "ylabel(\"Matthews corr. coeff.\");\n",
      "legend([\"PCA\", \"cflash\", \"fixed-variance\", \"k-means\", \"hierarchical\"],\n",
      "       bbox_to_anchor=(-0.15, 1.35),\n",
      "       loc=\"upper left\",\n",
      "       ncol=4);\n",
      "\n",
      "subplot(222);\n",
      "buildplot(:spearman)\n",
      "ax = gca();\n",
      "ax[:yaxis][:set_ticks_position](\"right\");\n",
      "ax[:set_xscale](\"linear\");\n",
      "ylabel(\"spearman rank corr.\");\n",
      "grid();\n",
      "\n",
      "subplot(223);\n",
      "buildplot(:beats)\n",
      "ax = gca();\n",
      "ax[:set_xscale](\"log\");\n",
      "xlabel(\"reporting round\");\n",
      "ylabel(\"beats\");\n",
      "grid();\n",
      "\n",
      "subplot(224);\n",
      "buildplot(:liars_bonus)\n",
      "xlabel(\"reporting round\");\n",
      "ylabel(\"liars' bonus\");\n",
      "ax = gca();\n",
      "ax[:yaxis][:set_ticks_position](\"right\");\n",
      "ax[:set_xscale](\"log\");\n",
      "grid();\n",
      "\n",
      "fig[:canvas][:draw]();"
     ],
     "language": "python",
     "metadata": {},
     "outputs": []
    },
    {
     "cell_type": "code",
     "collapsed": false,
     "input": [
      "fig = figure();\n",
      "errorbar(timesteps, mean_rep_liars[\"PCA\"], yerr=std_rep_liars[\"PCA\"]);\n",
      "hold(\"on\");\n",
      "errorbar(timesteps, mean_rep_liars[\"cflash\"], yerr=std_rep_liars[\"cflash\"]);\n",
      "errorbar(timesteps, mean_rep_liars[\"fixed-variance\"], yerr=std_rep_liars[\"fixed-variance\"]);\n",
      "errorbar(timesteps, mean_rep_liars[\"k-means\"], yerr=std_rep_liars[\"k-means\"]);\n",
      "errorbar(timesteps, mean_rep_liars[\"hierarchical\"], yerr=std_rep_liars[\"hierarchical\"]);\n",
      "xlabel(\"time (# reporting rounds)\");\n",
      "ylabel(\"liars' reputation\");\n",
      "ax = gca();\n",
      "ax[:set_xscale](\"linear\");\n",
      "grid();\n",
      "legend([\"PCA\", \"cflash\", \"fixed-variance\", \"k-means\", \"hierarchical\"],\n",
      "       loc=\"center right\",\n",
      "       bbox_to_anchor=(1.4, 0.55),\n",
      "       ncol=1);\n",
      "fig[:canvas][:draw]();"
     ],
     "language": "python",
     "metadata": {},
     "outputs": []
    },
    {
     "cell_type": "code",
     "collapsed": false,
     "input": [
      "fig = figure();\n",
      "metric = :MCC;\n",
      "timesteps = 1:sim.TIMESTEPS;\n",
      "errorbar(timesteps, mean(track[\"PCA\"][metric], 2), yerr=std(track[\"PCA\"][metric], 2) / sim.SQRTN);\n",
      "hold(\"on\");\n",
      "errorbar(timesteps, mean(track[\"cflash\"][metric], 2), yerr=std(track[\"cflash\"][metric], 2) / sim.SQRTN);\n",
      "errorbar(timesteps, mean(track[\"fixed-variance\"][metric], 2), yerr=std(track[\"fixed-variance\"][metric], 2) / sim.SQRTN);\n",
      "errorbar(timesteps, mean(track[\"k-means\"][metric], 2), yerr=std(track[\"k-means\"][metric], 2) / sim.SQRTN);\n",
      "errorbar(timesteps, mean(track[\"hierarchical\"][metric], 2), yerr=std(track[\"hierarchical\"][metric], 2) / sim.SQRTN);\n",
      "grid();\n",
      "xlabel(\"time (# reporting rounds)\");\n",
      "ylabel(\"Matthews corr. coeff.\");\n",
      "legend([\"PCA\", \"cflash\", \"fixed-variance\", \"k-means\", \"hierarchical\"],\n",
      "       loc=\"center right\",\n",
      "       bbox_to_anchor=(1.4, 0.55),\n",
      "       ncol=1);\n",
      "fig[:canvas][:draw]();"
     ],
     "language": "python",
     "metadata": {},
     "outputs": []
    }
   ],
   "metadata": {}
  }
 ]
}